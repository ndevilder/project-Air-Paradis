{
 "cells": [
  {
   "cell_type": "code",
   "execution_count": 25,
   "id": "d5a30858",
   "metadata": {},
   "outputs": [],
   "source": [
    "# Import des bibliothèques\n",
    "import pandas as pd\n",
    "import numpy as np\n",
    "import torch\n",
    "from torch.utils.data import DataLoader, Dataset\n",
    "from transformers import (\n",
    "    DistilBertTokenizer,\n",
    "    DistilBertForSequenceClassification,\n",
    "    get_scheduler,\n",
    ")\n",
    "from torch.optim import AdamW  # Import depuis PyTorch\n",
    "from sklearn.metrics import classification_report, roc_auc_score, roc_curve\n",
    "from sklearn.model_selection import train_test_split\n",
    "from tqdm import tqdm\n",
    "import matplotlib.pyplot as plt\n",
    "import optuna\n",
    "import mlflow\n",
    "import json"
   ]
  },
  {
   "cell_type": "code",
   "execution_count": null,
   "id": "cfac90cc",
   "metadata": {},
   "outputs": [
    {
     "data": {
      "text/plain": [
       "<Experiment: artifact_location='file:///c:/Users/devil/Projets/air%20paradis/project-Air-Paradis/mlruns/247880020185134400', creation_time=1737454886750, experiment_id='247880020185134400', last_update_time=1737454886750, lifecycle_stage='active', name='distilbert_text_classification_experiment', tags={}>"
      ]
     },
     "execution_count": 2,
     "metadata": {},
     "output_type": "execute_result"
    }
   ],
   "source": [
    "# Configuration\n",
    "config = {\n",
    "    \"model_name\": \"distilbert-base-uncased\",\n",
    "    \"num_labels\": 2,\n",
    "    \"max_len\": 128,\n",
    "    \"batch_size\": 32,\n",
    "    \"learning_rate\": 5e-5,\n",
    "    \"num_epochs\": 3,\n",
    "    \"device\": \"cuda\" if torch.cuda.is_available() else \"cpu\",\n",
    "    \"data_path\": \"data/train_df.csv\",\n",
    "    \"mlflow_experiment_name\": \"distilbert_text_classification_experiment\",\n",
    "}\n",
    "\n",
    "# Initialiser MLflow\n",
    "mlflow.set_experiment(config[\"mlflow_experiment_name\"])"
   ]
  },
  {
   "cell_type": "code",
   "execution_count": null,
   "id": "73c3b216",
   "metadata": {},
   "outputs": [
    {
     "name": "stdout",
     "output_type": "stream",
     "text": [
      "Initialisation du tokenizer...\n"
     ]
    }
   ],
   "source": [
    "# Chargement des données\n",
    "class BertDataset(Dataset):\n",
    "    def __init__(self, texts, labels, tokenizer, max_len):\n",
    "        self.texts = texts\n",
    "        self.labels = labels\n",
    "        self.tokenizer = tokenizer\n",
    "        self.max_len = max_len\n",
    "\n",
    "    def __len__(self):\n",
    "        return len(self.texts)\n",
    "\n",
    "    def __getitem__(self, idx):\n",
    "        text = self.texts.iloc[idx]\n",
    "        label = self.labels.iloc[idx]\n",
    "        encoding = self.tokenizer(\n",
    "            text, padding=\"max_length\", truncation=True, max_length=self.max_len, return_tensors=\"pt\"\n",
    "        )\n",
    "        return {\n",
    "            \"input_ids\": encoding[\"input_ids\"].squeeze(0),\n",
    "            \"attention_mask\": encoding[\"attention_mask\"].squeeze(0),\n",
    "            \"label\": torch.tensor(label, dtype=torch.long),\n",
    "        }\n",
    "\n",
    "\n",
    "def prepare_data(X, y, tokenizer, batch_size, max_len, shuffle=True):\n",
    "    dataset = BertDataset(X, y, tokenizer, max_len)\n",
    "    dataloader = DataLoader(dataset, batch_size=batch_size, shuffle=shuffle)\n",
    "    return dataloader\n",
    "\n",
    "# Initialiser le tokenizer\n",
    "print(\"Initialisation du tokenizer...\")\n",
    "tokenizer = DistilBertTokenizer.from_pretrained(config[\"model_name\"])"
   ]
  },
  {
   "cell_type": "code",
   "execution_count": 4,
   "id": "1dda5a07",
   "metadata": {},
   "outputs": [],
   "source": [
    "# Charger les données et les séparer en train et test\n",
    "data = pd.read_csv(config[\"data_path\"]).dropna(subset=[\"text\"])\n",
    "X_train, X_test, y_train, y_test = train_test_split(\n",
    "    data[\"text\"], data[\"target\"], test_size=0.2, random_state=42\n",
    ")"
   ]
  },
  {
   "cell_type": "code",
   "execution_count": 5,
   "id": "74a284e7",
   "metadata": {},
   "outputs": [],
   "source": [
    "# Préparer les DataLoaders avec sous-échantillonnage pour accélérer\n",
    "X_train_sample = X_train.sample(frac=0.1, random_state=42)\n",
    "y_train_sample = y_train.loc[X_train_sample.index]\n",
    "train_loader = prepare_data(X_train_sample, y_train_sample, tokenizer, config[\"batch_size\"], config[\"max_len\"])\n",
    "test_loader = prepare_data(X_test, y_test, tokenizer, config[\"batch_size\"], config[\"max_len\"], shuffle=False)"
   ]
  },
  {
   "cell_type": "code",
   "execution_count": 10,
   "id": "658dd162",
   "metadata": {},
   "outputs": [],
   "source": [
    "# Entraînement du modèle avec arrêt anticipé\n",
    "def train_model(train_loader, model, optimizer, scheduler, device, num_epochs):\n",
    "    previous_loss = float(\"inf\")\n",
    "    early_stop_threshold = 1e-3\n",
    "\n",
    "    # Terminer toute exécution active\n",
    "    if mlflow.active_run() is not None:\n",
    "        mlflow.end_run()\n",
    "\n",
    "    with mlflow.start_run():\n",
    "        mlflow.log_param(\"num_epochs\", num_epochs)\n",
    "        mlflow.log_param(\"learning_rate\", optimizer.param_groups[0][\"lr\"])\n",
    "        mlflow.log_param(\"batch_size\", train_loader.batch_size)\n",
    "\n",
    "        model.train()\n",
    "        for epoch in range(num_epochs):\n",
    "            epoch_loss = 0\n",
    "            for batch in tqdm(train_loader, desc=f\"Époque {epoch + 1}\"):\n",
    "                input_ids = batch[\"input_ids\"].to(device)\n",
    "                attention_mask = batch[\"attention_mask\"].to(device)\n",
    "                labels = batch[\"label\"].to(device)\n",
    "\n",
    "                optimizer.zero_grad()\n",
    "                outputs = model(input_ids, attention_mask=attention_mask, labels=labels)\n",
    "                loss = outputs.loss\n",
    "                loss.backward()\n",
    "                optimizer.step()\n",
    "                scheduler.step()\n",
    "\n",
    "                epoch_loss += loss.item()\n",
    "\n",
    "            print(f\"Époque {epoch + 1}, Perte : {epoch_loss:.4f}\")\n",
    "            mlflow.log_metric(f\"loss_epoch_{epoch + 1}\", epoch_loss)\n",
    "\n",
    "            # Vérification de l'arrêt anticipé\n",
    "            if abs(previous_loss - epoch_loss) < early_stop_threshold:\n",
    "                print(\"Arrêt anticipé : la perte ne diminue plus significativement.\")\n",
    "                break\n",
    "\n",
    "            previous_loss = epoch_loss\n",
    "\n",
    "        # Ajouter un exemple d'entrée pour la signature\n",
    "        input_example = {\n",
    "            \"input_ids\": torch.randint(0, 1000, (1, config[\"max_len\"])),\n",
    "            \"attention_mask\": torch.ones((1, config[\"max_len\"])),\n",
    "        }\n",
    "        model.save_pretrained(\"./saved_models/distilbert_model\")\n",
    "        mlflow.pytorch.log_model(model, \"distilbert_model\", input_example=input_example)\n"
   ]
  },
  {
   "cell_type": "code",
   "execution_count": 23,
   "id": "c3ffb703",
   "metadata": {},
   "outputs": [],
   "source": [
    "# Evaluation\n",
    "def evaluate_model(model, test_loader, device):\n",
    "    model.eval()\n",
    "    y_true, y_pred, y_probs = [], [], []\n",
    "    with torch.no_grad():\n",
    "        for batch in test_loader:\n",
    "            input_ids = batch[\"input_ids\"].to(device)\n",
    "            attention_mask = batch[\"attention_mask\"].to(device)\n",
    "            labels = batch[\"label\"].to(device)\n",
    "\n",
    "            outputs = model(input_ids, attention_mask=attention_mask)\n",
    "            probs = torch.softmax(outputs.logits, dim=1)[:, 1].cpu().numpy()\n",
    "            preds = torch.argmax(outputs.logits, dim=1).cpu().numpy()\n",
    "\n",
    "            y_pred.extend(preds)\n",
    "            y_probs.extend(probs)\n",
    "            y_true.extend(labels.cpu().numpy())\n",
    "\n",
    "    roc_auc = roc_auc_score(y_true, y_probs)\n",
    "    report = classification_report(y_true, y_pred, output_dict=True)\n",
    "\n",
    "    print(\"Rapport de classification :\")\n",
    "    print(classification_report(y_true, y_pred))\n",
    "    print(f\"ROC AUC Score : {roc_auc:.4f}\")\n",
    "\n",
    "    # Enregistrer la courbe ROC\n",
    "    fpr, tpr, _ = roc_curve(y_true, y_probs) \n",
    "    plt.figure()\n",
    "    plt.plot(fpr, tpr, label=f\"ROC curve (area = {roc_auc:.2f})\")\n",
    "    plt.xlabel(\"False Positive Rate\")\n",
    "    plt.ylabel(\"True Positive Rate\")\n",
    "    plt.title(\"Receiver Operating Characteristic\")\n",
    "    plt.legend(loc=\"lower right\")\n",
    "    plt.savefig(\"roc_curve.png\")\n",
    "    mlflow.log_artifact(\"roc_curve.png\")\n",
    "    \n",
    "    mlflow.log_metric(\"roc_auc\", roc_auc)\n",
    "    mlflow.log_metric(\"accuracy\", report[\"accuracy\"])\n",
    "    mlflow.log_metric(\"precision\", report[\"weighted avg\"][\"precision\"])\n",
    "    mlflow.log_metric(\"recall\", report[\"weighted avg\"][\"recall\"])\n",
    "    mlflow.log_metric(\"f1_score\", report[\"weighted avg\"][\"f1-score\"])\n",
    "\n",
    "    return roc_auc, report\n"
   ]
  },
  {
   "cell_type": "code",
   "execution_count": 8,
   "id": "6f52d4c5",
   "metadata": {},
   "outputs": [],
   "source": [
    "# Recherche d'hyperparamètres\n",
    "def objective(trial):\n",
    "    # Terminer toute exécution active\n",
    "    if mlflow.active_run() is not None:\n",
    "        mlflow.end_run()\n",
    "\n",
    "    with mlflow.start_run():\n",
    "        learning_rate = trial.suggest_float(\"learning_rate\", 1e-5, 1e-4, log=True)\n",
    "        batch_size = trial.suggest_categorical(\"batch_size\", [16, 32])\n",
    "        num_epochs = trial.suggest_int(\"num_epochs\", 1, 3)\n",
    "        max_len = trial.suggest_categorical(\"max_len\", [128, 256])\n",
    "\n",
    "        train_loader = prepare_data(X_train_sample, y_train_sample, tokenizer, batch_size, max_len, shuffle=True)\n",
    "        test_loader = prepare_data(X_test, y_test, tokenizer, batch_size, max_len, shuffle=False)\n",
    "\n",
    "        model = DistilBertForSequenceClassification.from_pretrained(\n",
    "            config[\"model_name\"], num_labels=config[\"num_labels\"]\n",
    "        ).to(config[\"device\"])\n",
    "\n",
    "        optimizer = AdamW(model.parameters(), lr=learning_rate)\n",
    "        scheduler = get_scheduler(\n",
    "            \"linear\", optimizer=optimizer, num_warmup_steps=0, num_training_steps=len(train_loader) * num_epochs\n",
    "        )\n",
    "\n",
    "        train_model(train_loader, model, optimizer, scheduler, config[\"device\"], num_epochs)\n",
    "\n",
    "        roc_auc, _ = evaluate_model(model, test_loader, config[\"device\"])\n",
    "        return roc_auc\n"
   ]
  },
  {
   "cell_type": "code",
   "execution_count": 11,
   "id": "687d6c0e",
   "metadata": {},
   "outputs": [
    {
     "name": "stderr",
     "output_type": "stream",
     "text": [
      "[I 2025-01-23 06:30:14,193] A new study created in memory with name: no-name-2ab0fd43-8720-44b5-98be-8efeb17fe2c8\n",
      "Some weights of DistilBertForSequenceClassification were not initialized from the model checkpoint at distilbert-base-uncased and are newly initialized: ['classifier.bias', 'classifier.weight', 'pre_classifier.bias', 'pre_classifier.weight']\n",
      "You should probably TRAIN this model on a down-stream task to be able to use it for predictions and inference.\n",
      "Époque 1: 100%|██████████| 640/640 [24:41<00:00,  2.31s/it]\n"
     ]
    },
    {
     "name": "stdout",
     "output_type": "stream",
     "text": [
      "Époque 1, Perte : 303.7130\n"
     ]
    },
    {
     "name": "stderr",
     "output_type": "stream",
     "text": [
      "2025/01/23 06:55:20 WARNING mlflow.models.model: Model logged without a signature and input example. Please set `input_example` parameter when logging the model to auto infer the model signature.\n",
      "[I 2025-01-23 06:57:00,321] Trial 0 finished with value: 0.7984769754852383 and parameters: {'learning_rate': 1.6387127653029488e-05, 'batch_size': 16, 'num_epochs': 1}. Best is trial 0 with value: 0.7984769754852383.\n",
      "Some weights of DistilBertForSequenceClassification were not initialized from the model checkpoint at distilbert-base-uncased and are newly initialized: ['classifier.bias', 'classifier.weight', 'pre_classifier.bias', 'pre_classifier.weight']\n",
      "You should probably TRAIN this model on a down-stream task to be able to use it for predictions and inference.\n",
      "Époque 1: 100%|██████████| 320/320 [21:43<00:00,  4.07s/it]\n"
     ]
    },
    {
     "name": "stdout",
     "output_type": "stream",
     "text": [
      "Époque 1, Perte : 162.5116\n"
     ]
    },
    {
     "name": "stderr",
     "output_type": "stream",
     "text": [
      "2025/01/23 07:19:06 WARNING mlflow.models.model: Model logged without a signature and input example. Please set `input_example` parameter when logging the model to auto infer the model signature.\n",
      "[I 2025-01-23 07:20:44,919] Trial 1 finished with value: 0.7886421997181258 and parameters: {'learning_rate': 1.2034766060380194e-05, 'batch_size': 32, 'num_epochs': 1}. Best is trial 0 with value: 0.7984769754852383.\n",
      "Some weights of DistilBertForSequenceClassification were not initialized from the model checkpoint at distilbert-base-uncased and are newly initialized: ['classifier.bias', 'classifier.weight', 'pre_classifier.bias', 'pre_classifier.weight']\n",
      "You should probably TRAIN this model on a down-stream task to be able to use it for predictions and inference.\n",
      "Époque 1: 100%|██████████| 320/320 [22:30<00:00,  4.22s/it]\n"
     ]
    },
    {
     "name": "stdout",
     "output_type": "stream",
     "text": [
      "Époque 1, Perte : 161.8025\n"
     ]
    },
    {
     "name": "stderr",
     "output_type": "stream",
     "text": [
      "Époque 2: 100%|██████████| 320/320 [33:11<00:00,  6.22s/it]\n"
     ]
    },
    {
     "name": "stdout",
     "output_type": "stream",
     "text": [
      "Époque 2, Perte : 121.3418\n"
     ]
    },
    {
     "name": "stderr",
     "output_type": "stream",
     "text": [
      "Époque 3: 100%|██████████| 320/320 [38:04<00:00,  7.14s/it]\n"
     ]
    },
    {
     "name": "stdout",
     "output_type": "stream",
     "text": [
      "Époque 3, Perte : 104.4027\n"
     ]
    },
    {
     "name": "stderr",
     "output_type": "stream",
     "text": [
      "2025/01/23 08:55:33 WARNING mlflow.models.model: Model logged without a signature and input example. Please set `input_example` parameter when logging the model to auto infer the model signature.\n",
      "[I 2025-01-23 08:58:24,320] Trial 2 finished with value: 0.8043119197177107 and parameters: {'learning_rate': 1.225888800628739e-05, 'batch_size': 32, 'num_epochs': 3}. Best is trial 2 with value: 0.8043119197177107.\n",
      "Some weights of DistilBertForSequenceClassification were not initialized from the model checkpoint at distilbert-base-uncased and are newly initialized: ['classifier.bias', 'classifier.weight', 'pre_classifier.bias', 'pre_classifier.weight']\n",
      "You should probably TRAIN this model on a down-stream task to be able to use it for predictions and inference.\n",
      "Époque 1: 100%|██████████| 640/640 [26:46<00:00,  2.51s/it]\n"
     ]
    },
    {
     "name": "stdout",
     "output_type": "stream",
     "text": [
      "Époque 1, Perte : 301.7285\n"
     ]
    },
    {
     "name": "stderr",
     "output_type": "stream",
     "text": [
      "2025/01/23 09:25:35 WARNING mlflow.models.model: Model logged without a signature and input example. Please set `input_example` parameter when logging the model to auto infer the model signature.\n",
      "[I 2025-01-23 09:27:25,570] Trial 3 finished with value: 0.7976352590673733 and parameters: {'learning_rate': 7.980181689646345e-05, 'batch_size': 16, 'num_epochs': 1}. Best is trial 2 with value: 0.8043119197177107.\n",
      "Some weights of DistilBertForSequenceClassification were not initialized from the model checkpoint at distilbert-base-uncased and are newly initialized: ['classifier.bias', 'classifier.weight', 'pre_classifier.bias', 'pre_classifier.weight']\n",
      "You should probably TRAIN this model on a down-stream task to be able to use it for predictions and inference.\n",
      "Époque 1: 100%|██████████| 320/320 [30:30<00:00,  5.72s/it]\n"
     ]
    },
    {
     "name": "stdout",
     "output_type": "stream",
     "text": [
      "Époque 1, Perte : 155.5521\n"
     ]
    },
    {
     "name": "stderr",
     "output_type": "stream",
     "text": [
      "Époque 2: 100%|██████████| 320/320 [26:01<00:00,  4.88s/it]\n"
     ]
    },
    {
     "name": "stdout",
     "output_type": "stream",
     "text": [
      "Époque 2, Perte : 92.1988\n"
     ]
    },
    {
     "name": "stderr",
     "output_type": "stream",
     "text": [
      "Époque 3: 100%|██████████| 320/320 [25:39<00:00,  4.81s/it]\n"
     ]
    },
    {
     "name": "stdout",
     "output_type": "stream",
     "text": [
      "Époque 3, Perte : 35.8646\n"
     ]
    },
    {
     "name": "stderr",
     "output_type": "stream",
     "text": [
      "2025/01/23 10:50:42 WARNING mlflow.models.model: Model logged without a signature and input example. Please set `input_example` parameter when logging the model to auto infer the model signature.\n",
      "[I 2025-01-23 10:52:47,633] Trial 4 finished with value: 0.8090765595711213 and parameters: {'learning_rate': 7.562390860135907e-05, 'batch_size': 32, 'num_epochs': 3}. Best is trial 4 with value: 0.8090765595711213.\n",
      "Some weights of DistilBertForSequenceClassification were not initialized from the model checkpoint at distilbert-base-uncased and are newly initialized: ['classifier.bias', 'classifier.weight', 'pre_classifier.bias', 'pre_classifier.weight']\n",
      "You should probably TRAIN this model on a down-stream task to be able to use it for predictions and inference.\n",
      "Époque 1: 100%|██████████| 640/640 [32:35<00:00,  3.05s/it]\n"
     ]
    },
    {
     "name": "stdout",
     "output_type": "stream",
     "text": [
      "Époque 1, Perte : 308.9544\n"
     ]
    },
    {
     "name": "stderr",
     "output_type": "stream",
     "text": [
      "Époque 2: 100%|██████████| 640/640 [34:45<00:00,  3.26s/it] \n"
     ]
    },
    {
     "name": "stdout",
     "output_type": "stream",
     "text": [
      "Époque 2, Perte : 212.9050\n"
     ]
    },
    {
     "name": "stderr",
     "output_type": "stream",
     "text": [
      "2025/01/23 12:00:47 WARNING mlflow.models.model: Model logged without a signature and input example. Please set `input_example` parameter when logging the model to auto infer the model signature.\n",
      "[I 2025-01-23 12:02:43,224] Trial 5 finished with value: 0.8006725185998576 and parameters: {'learning_rate': 1.7250944779022217e-05, 'batch_size': 16, 'num_epochs': 2}. Best is trial 4 with value: 0.8090765595711213.\n",
      "Some weights of DistilBertForSequenceClassification were not initialized from the model checkpoint at distilbert-base-uncased and are newly initialized: ['classifier.bias', 'classifier.weight', 'pre_classifier.bias', 'pre_classifier.weight']\n",
      "You should probably TRAIN this model on a down-stream task to be able to use it for predictions and inference.\n",
      "Époque 1: 100%|██████████| 320/320 [24:24<00:00,  4.58s/it]\n"
     ]
    },
    {
     "name": "stdout",
     "output_type": "stream",
     "text": [
      "Époque 1, Perte : 153.3133\n"
     ]
    },
    {
     "name": "stderr",
     "output_type": "stream",
     "text": [
      "Époque 2: 100%|██████████| 320/320 [24:51<00:00,  4.66s/it]\n"
     ]
    },
    {
     "name": "stdout",
     "output_type": "stream",
     "text": [
      "Époque 2, Perte : 86.3798\n"
     ]
    },
    {
     "name": "stderr",
     "output_type": "stream",
     "text": [
      "2025/01/23 12:52:40 WARNING mlflow.models.model: Model logged without a signature and input example. Please set `input_example` parameter when logging the model to auto infer the model signature.\n",
      "[I 2025-01-23 12:54:27,609] Trial 6 finished with value: 0.8004823846882079 and parameters: {'learning_rate': 6.892415715155969e-05, 'batch_size': 32, 'num_epochs': 2}. Best is trial 4 with value: 0.8090765595711213.\n",
      "Some weights of DistilBertForSequenceClassification were not initialized from the model checkpoint at distilbert-base-uncased and are newly initialized: ['classifier.bias', 'classifier.weight', 'pre_classifier.bias', 'pre_classifier.weight']\n",
      "You should probably TRAIN this model on a down-stream task to be able to use it for predictions and inference.\n",
      "Époque 1: 100%|██████████| 640/640 [26:43<00:00,  2.50s/it]\n"
     ]
    },
    {
     "name": "stdout",
     "output_type": "stream",
     "text": [
      "Époque 1, Perte : 311.8071\n"
     ]
    },
    {
     "name": "stderr",
     "output_type": "stream",
     "text": [
      "2025/01/23 13:21:49 WARNING mlflow.models.model: Model logged without a signature and input example. Please set `input_example` parameter when logging the model to auto infer the model signature.\n",
      "[I 2025-01-23 13:23:43,941] Trial 7 finished with value: 0.7940562857416656 and parameters: {'learning_rate': 1.3142809856982769e-05, 'batch_size': 16, 'num_epochs': 1}. Best is trial 4 with value: 0.8090765595711213.\n",
      "Some weights of DistilBertForSequenceClassification were not initialized from the model checkpoint at distilbert-base-uncased and are newly initialized: ['classifier.bias', 'classifier.weight', 'pre_classifier.bias', 'pre_classifier.weight']\n",
      "You should probably TRAIN this model on a down-stream task to be able to use it for predictions and inference.\n",
      "Époque 1: 100%|██████████| 640/640 [25:31<00:00,  2.39s/it]\n"
     ]
    },
    {
     "name": "stdout",
     "output_type": "stream",
     "text": [
      "Époque 1, Perte : 297.1381\n"
     ]
    },
    {
     "name": "stderr",
     "output_type": "stream",
     "text": [
      "2025/01/23 13:49:55 WARNING mlflow.models.model: Model logged without a signature and input example. Please set `input_example` parameter when logging the model to auto infer the model signature.\n",
      "[I 2025-01-23 13:51:55,277] Trial 8 finished with value: 0.7995857339138471 and parameters: {'learning_rate': 3.5744875140743397e-05, 'batch_size': 16, 'num_epochs': 1}. Best is trial 4 with value: 0.8090765595711213.\n",
      "Some weights of DistilBertForSequenceClassification were not initialized from the model checkpoint at distilbert-base-uncased and are newly initialized: ['classifier.bias', 'classifier.weight', 'pre_classifier.bias', 'pre_classifier.weight']\n",
      "You should probably TRAIN this model on a down-stream task to be able to use it for predictions and inference.\n",
      "Époque 1: 100%|██████████| 320/320 [24:46<00:00,  4.64s/it]\n"
     ]
    },
    {
     "name": "stdout",
     "output_type": "stream",
     "text": [
      "Époque 1, Perte : 151.1052\n"
     ]
    },
    {
     "name": "stderr",
     "output_type": "stream",
     "text": [
      "2025/01/23 14:17:20 WARNING mlflow.models.model: Model logged without a signature and input example. Please set `input_example` parameter when logging the model to auto infer the model signature.\n",
      "[I 2025-01-23 14:19:07,296] Trial 9 finished with value: 0.8057756151274568 and parameters: {'learning_rate': 2.4335366756715682e-05, 'batch_size': 32, 'num_epochs': 1}. Best is trial 4 with value: 0.8090765595711213.\n"
     ]
    },
    {
     "name": "stdout",
     "output_type": "stream",
     "text": [
      "Meilleurs paramètres : {'learning_rate': 7.562390860135907e-05, 'batch_size': 32, 'num_epochs': 3}\n"
     ]
    }
   ],
   "source": [
    "# Lancer l'optimisation\n",
    "study = optuna.create_study(direction=\"maximize\")\n",
    "study.optimize(objective, n_trials=10)\n",
    "print(\"Meilleurs paramètres :\", study.best_params)"
   ]
  },
  {
   "cell_type": "code",
   "execution_count": 13,
   "id": "e6ac45b2",
   "metadata": {},
   "outputs": [],
   "source": [
    "df_best_params = pd.DataFrame([study.best_params])\n",
    "# Sauvegarder en CSV\n",
    "df_best_params.to_csv(\"best_params.csv\", index=False)"
   ]
  },
  {
   "cell_type": "code",
   "execution_count": 36,
   "id": "996b972c",
   "metadata": {},
   "outputs": [
    {
     "name": "stderr",
     "output_type": "stream",
     "text": [
      "Some weights of DistilBertForSequenceClassification were not initialized from the model checkpoint at distilbert-base-uncased and are newly initialized: ['classifier.bias', 'classifier.weight', 'pre_classifier.bias', 'pre_classifier.weight']\n",
      "You should probably TRAIN this model on a down-stream task to be able to use it for predictions and inference.\n",
      "Époque 1: 100%|██████████| 32/32 [03:13<00:00,  6.06s/it]\n"
     ]
    },
    {
     "name": "stdout",
     "output_type": "stream",
     "text": [
      "Époque 1, Perte : 20.3801\n"
     ]
    },
    {
     "name": "stderr",
     "output_type": "stream",
     "text": [
      "Époque 2: 100%|██████████| 32/32 [03:34<00:00,  6.69s/it]\n"
     ]
    },
    {
     "name": "stdout",
     "output_type": "stream",
     "text": [
      "Époque 2, Perte : 13.0615\n"
     ]
    },
    {
     "name": "stderr",
     "output_type": "stream",
     "text": [
      "Époque 3: 100%|██████████| 32/32 [03:38<00:00,  6.83s/it]\n"
     ]
    },
    {
     "name": "stdout",
     "output_type": "stream",
     "text": [
      "Époque 3, Perte : 7.1236\n"
     ]
    },
    {
     "name": "stderr",
     "output_type": "stream",
     "text": [
      "Époque 4: 100%|██████████| 32/32 [04:14<00:00,  7.95s/it]\n"
     ]
    },
    {
     "name": "stdout",
     "output_type": "stream",
     "text": [
      "Époque 4, Perte : 5.6581\n"
     ]
    },
    {
     "name": "stderr",
     "output_type": "stream",
     "text": [
      "Époque 5: 100%|██████████| 32/32 [03:26<00:00,  6.46s/it]\n"
     ]
    },
    {
     "name": "stdout",
     "output_type": "stream",
     "text": [
      "Époque 5, Perte : 5.6650\n"
     ]
    },
    {
     "name": "stderr",
     "output_type": "stream",
     "text": [
      "Époque 6: 100%|██████████| 32/32 [03:25<00:00,  6.42s/it]\n"
     ]
    },
    {
     "name": "stdout",
     "output_type": "stream",
     "text": [
      "Époque 6, Perte : 5.7706\n"
     ]
    },
    {
     "name": "stderr",
     "output_type": "stream",
     "text": [
      "Époque 7: 100%|██████████| 32/32 [03:29<00:00,  6.54s/it]\n"
     ]
    },
    {
     "name": "stdout",
     "output_type": "stream",
     "text": [
      "Époque 7, Perte : 5.8157\n"
     ]
    },
    {
     "name": "stderr",
     "output_type": "stream",
     "text": [
      "Époque 8: 100%|██████████| 32/32 [04:03<00:00,  7.62s/it]\n"
     ]
    },
    {
     "name": "stdout",
     "output_type": "stream",
     "text": [
      "Époque 8, Perte : 5.9404\n"
     ]
    },
    {
     "name": "stderr",
     "output_type": "stream",
     "text": [
      "Époque 9: 100%|██████████| 32/32 [04:52<00:00,  9.15s/it]\n"
     ]
    },
    {
     "name": "stdout",
     "output_type": "stream",
     "text": [
      "Époque 9, Perte : 5.8551\n"
     ]
    },
    {
     "name": "stderr",
     "output_type": "stream",
     "text": [
      "Époque 10: 100%|██████████| 32/32 [04:44<00:00,  8.90s/it]\n"
     ]
    },
    {
     "name": "stdout",
     "output_type": "stream",
     "text": [
      "Époque 10, Perte : 6.1282\n"
     ]
    },
    {
     "name": "stderr",
     "output_type": "stream",
     "text": [
      "2025/01/23 17:01:47 WARNING mlflow.models.model: Model logged without a signature and input example. Please set `input_example` parameter when logging the model to auto infer the model signature.\n"
     ]
    }
   ],
   "source": [
    "# Entraînement final avec les meilleurs hyperparamètres\n",
    "best_params = study.best_params\n",
    "model = DistilBertForSequenceClassification.from_pretrained(\n",
    "    config[\"model_name\"], num_labels=config[\"num_labels\"]\n",
    ").to(config[\"device\"])\n",
    "\n",
    "optimizer = AdamW(model.parameters(), lr=best_params[\"learning_rate\"])\n",
    "scheduler = get_scheduler(\n",
    "    \"linear\",\n",
    "    optimizer=optimizer,\n",
    "    num_warmup_steps=0,\n",
    "    num_training_steps=len(train_loader) * best_params[\"num_epochs\"],\n",
    ")\n",
    "\n",
    "train_model(train_loader, model, optimizer, scheduler, config[\"device\"], 10)\n"
   ]
  },
  {
   "cell_type": "code",
   "execution_count": 37,
   "id": "d8706fb5",
   "metadata": {},
   "outputs": [
    {
     "name": "stdout",
     "output_type": "stream",
     "text": [
      "Évaluation du modèle final :\n",
      "Rapport de classification :\n",
      "              precision    recall  f1-score   support\n",
      "\n",
      "           0       0.73      0.83      0.78      1271\n",
      "           1       0.81      0.70      0.75      1289\n",
      "\n",
      "    accuracy                           0.76      2560\n",
      "   macro avg       0.77      0.76      0.76      2560\n",
      "weighted avg       0.77      0.76      0.76      2560\n",
      "\n",
      "ROC AUC Score : 0.8435\n"
     ]
    },
    {
     "data": {
      "image/png": "[encoded data removed]",
      "text/plain": [
       "<Figure size 640x480 with 1 Axes>"
      ]
     },
     "metadata": {},
     "output_type": "display_data"
    }
   ],
   "source": [
    "# Évaluer le modèle final\n",
    "print(\"Évaluation du modèle final :\")\n",
    "roc_auc, report = evaluate_model(model, test_loader, config[\"device\"])\n"
   ]
  },
  {
   "cell_type": "code",
   "execution_count": 38,
   "id": "e2d6bd58",
   "metadata": {},
   "outputs": [
    {
     "name": "stdout",
     "output_type": "stream",
     "text": [
      "Modèle final sauvegardé dans './saved_models/final_distilbert_model'\n"
     ]
    }
   ],
   "source": [
    "# Sauvegarder le modèle final\n",
    "model.save_pretrained(\"./saved_models/final_distilbert_model\")\n",
    "print(\"Modèle final sauvegardé dans './saved_models/final_distilbert_model'\")"
   ]
  },
  {
   "cell_type": "code",
   "execution_count": 39,
   "id": "eb7af7a6",
   "metadata": {},
   "outputs": [
    {
     "data": {
      "text/plain": [
       "{'0': {'precision': 0.7299723756906077,\n",
       "  'recall': 0.8316286388670339,\n",
       "  'f1-score': 0.7774917248988599,\n",
       "  'support': 1271.0},\n",
       " '1': {'precision': 0.8075539568345323,\n",
       "  'recall': 0.6966640806826998,\n",
       "  'f1-score': 0.7480216576426489,\n",
       "  'support': 1289.0},\n",
       " 'accuracy': 0.763671875,\n",
       " 'macro avg': {'precision': 0.76876316626257,\n",
       "  'recall': 0.7641463597748668,\n",
       "  'f1-score': 0.7627566912707544,\n",
       "  'support': 2560.0},\n",
       " 'weighted avg': {'precision': 0.7690359140087791,\n",
       "  'recall': 0.763671875,\n",
       "  'f1-score': 0.7626530855655569,\n",
       "  'support': 2560.0}}"
      ]
     },
     "execution_count": 39,
     "metadata": {},
     "output_type": "execute_result"
    }
   ],
   "source": [
    "report"
   ]
  }
 ],
 "metadata": {
  "kernelspec": {
   "display_name": "airParadis",
   "language": "python",
   "name": "python3"
  },
  "language_info": {
   "codemirror_mode": {
    "name": "ipython",
    "version": 3
   },
   "file_extension": ".py",
   "mimetype": "text/x-python",
   "name": "python",
   "nbconvert_exporter": "python",
   "pygments_lexer": "ipython3",
   "version": "3.12.8"
  }
 },
 "nbformat": 4,
 "nbformat_minor": 5
}
