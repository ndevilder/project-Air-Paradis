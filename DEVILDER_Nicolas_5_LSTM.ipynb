{
 "cells": [
  {
   "cell_type": "code",
   "execution_count": 15,
   "id": "4e324570",
   "metadata": {},
   "outputs": [],
   "source": [
    "import pandas as pd\n",
    "import numpy as np\n",
    "import torch\n",
    "import torch.nn as nn\n",
    "import torch.optim as optim\n",
    "from torch.utils.data import Dataset, DataLoader\n",
    "from sklearn.model_selection import train_test_split\n",
    "from sklearn.metrics import classification_report, roc_auc_score, roc_curve, confusion_matrix\n",
    "from nltk.stem import WordNetLemmatizer, PorterStemmer\n",
    "from nltk.tokenize import word_tokenize\n",
    "from gensim.models.keyedvectors import KeyedVectors\n",
    "import mlflow\n",
    "import mlflow.pytorch\n",
    "import os\n",
    "import matplotlib.pyplot as plt\n",
    "import json\n"
   ]
  },
  {
   "cell_type": "code",
   "execution_count": 3,
   "id": "fa4bf5f4",
   "metadata": {},
   "outputs": [
    {
     "name": "stdout",
     "output_type": "stream",
     "text": [
      "Entraînement sur : cpu\n"
     ]
    }
   ],
   "source": [
    "# Vérifier si un GPU est disponible\n",
    "device = torch.device(\"cuda\" if torch.cuda.is_available() else \"cpu\")\n",
    "print(f\"Entraînement sur : {device}\")"
   ]
  },
  {
   "cell_type": "code",
   "execution_count": 4,
   "id": "0f8060b3",
   "metadata": {},
   "outputs": [
    {
     "name": "stdout",
     "output_type": "stream",
     "text": [
      "Colonnes disponibles : ['target', 'date', 'user', 'text', 'words']\n",
      "Taille des données avant traitement : (12800, 5)\n",
      "target\n",
      "0    6419\n",
      "1    6381\n",
      "Name: count, dtype: int64\n"
     ]
    }
   ],
   "source": [
    "data = pd.read_csv(\"data/train_df.csv\")\n",
    "data = data.dropna(subset=['words'])\n",
    "# Validation des données après chargement\n",
    "print(f'Colonnes disponibles : {data.columns.tolist()}')\n",
    "print(f'Taille des données avant traitement : {data.shape}')\n",
    "print(data['target'].value_counts())"
   ]
  },
  {
   "cell_type": "code",
   "execution_count": 5,
   "id": "912b242e",
   "metadata": {},
   "outputs": [],
   "source": [
    "# Prétraitement : Lemmatisation et Stemming\n",
    "lemmatizer = WordNetLemmatizer()\n",
    "stemmer = PorterStemmer()\n",
    "\n",
    "def preprocess_text(text, method=\"lemmatization\"):\n",
    "    tokens = word_tokenize(text)\n",
    "    if method == \"lemmatization\":\n",
    "        return [lemmatizer.lemmatize(token) for token in tokens]\n",
    "    elif method == \"stemming\":\n",
    "        return [stemmer.stem(token) for token in tokens]\n"
   ]
  },
  {
   "cell_type": "code",
   "execution_count": 6,
   "id": "281100b6",
   "metadata": {},
   "outputs": [],
   "source": [
    "# Appliquer les deux techniques\n",
    "data[\"words_lemmatized\"] = data[\"words\"].apply(lambda x: \" \".join(preprocess_text(x, method=\"lemmatization\")))\n",
    "data[\"words_stemmed\"] = data[\"words\"].apply(lambda x: \" \".join(preprocess_text(x, method=\"stemming\")))"
   ]
  },
  {
   "cell_type": "code",
   "execution_count": 7,
   "id": "0bb32835",
   "metadata": {},
   "outputs": [],
   "source": [
    "# Division des données\n",
    "X_lemmatized = data[\"words_lemmatized\"]\n",
    "X_stemmed = data[\"words_stemmed\"]\n",
    "y = data[\"target\"]\n",
    "\n",
    "X_train_lem, X_test_lem, y_train, y_test = train_test_split(X_lemmatized, y, test_size=0.2, random_state=42)\n",
    "X_train_stem, X_test_stem, _, _ = train_test_split(X_stemmed, y, test_size=0.2, random_state=42)"
   ]
  },
  {
   "cell_type": "code",
   "execution_count": 8,
   "id": "344d5969",
   "metadata": {},
   "outputs": [],
   "source": [
    "# Charger des embeddings pré-entraînés (FastText)\n",
    "def load_fasttext_embeddings(filepath):\n",
    "    return KeyedVectors.load_word2vec_format(filepath, binary=False)\n",
    "\n",
    "fasttext_path = \"data/wiki-news-300d-1M.vec\"\n",
    "if not os.path.exists(fasttext_path):\n",
    "    raise FileNotFoundError(f\"Le fichier FastText n'a pas été trouvé à l'emplacement : {fasttext_path}\")\n",
    "\n",
    "fasttext_embeddings = load_fasttext_embeddings(fasttext_path)"
   ]
  },
  {
   "cell_type": "code",
   "execution_count": 9,
   "id": "4c459c83",
   "metadata": {},
   "outputs": [],
   "source": [
    "def build_pretrained_embedding_matrix(vocab, embeddings, embedding_dim):\n",
    "    matrix = np.zeros((len(vocab) + 1, embedding_dim))\n",
    "    for word, idx in vocab.items():\n",
    "        if word in embeddings:\n",
    "            matrix[idx] = embeddings[word]\n",
    "    return matrix"
   ]
  },
  {
   "cell_type": "code",
   "execution_count": 10,
   "id": "c9b39d63",
   "metadata": {},
   "outputs": [],
   "source": [
    "# Construire les vocabulaires et matrices d'embedding\n",
    "embedding_dim = 300\n",
    "vocab_lem = {word: idx for idx, word in enumerate(set(\" \".join(X_train_lem).split()), start=1)}\n",
    "vocab_stem = {word: idx for idx, word in enumerate(set(\" \".join(X_train_stem).split()), start=1)}\n",
    "\n",
    "embedding_matrix_lem = build_pretrained_embedding_matrix(vocab_lem, fasttext_embeddings, embedding_dim)\n",
    "embedding_matrix_stem = build_pretrained_embedding_matrix(vocab_stem, fasttext_embeddings, embedding_dim)"
   ]
  },
  {
   "cell_type": "code",
   "execution_count": 11,
   "id": "5d61c398",
   "metadata": {},
   "outputs": [],
   "source": [
    "# Dataset et DataLoader\n",
    "class TextDataset(Dataset):\n",
    "    def __init__(self, texts, labels, vocab, max_len):\n",
    "        self.texts = texts\n",
    "        self.labels = labels\n",
    "        self.vocab = vocab\n",
    "        self.max_len = max_len\n",
    "\n",
    "    def __len__(self):\n",
    "        return len(self.texts)\n",
    "\n",
    "    def __getitem__(self, idx):\n",
    "        text = self.texts.iloc[idx]\n",
    "        label = self.labels.iloc[idx]\n",
    "\n",
    "        tokenized = text.split()\n",
    "        tokenized = tokenized[:self.max_len] + [\"<PAD>\"] * (self.max_len - len(tokenized))\n",
    "\n",
    "        return {\n",
    "            \"input_ids\": torch.tensor([self.vocab.get(word, 0) for word in tokenized], dtype=torch.long),\n",
    "            \"label\": torch.tensor(label, dtype=torch.long)\n",
    "        }\n"
   ]
  },
  {
   "cell_type": "code",
   "execution_count": 12,
   "id": "c87f3ca5",
   "metadata": {},
   "outputs": [],
   "source": [
    "# Modèle LSTM\n",
    "class LSTMClassifier(nn.Module):\n",
    "    def __init__(self, embedding_matrix, hidden_dim, output_dim):\n",
    "        super(LSTMClassifier, self).__init__()\n",
    "        self.embedding = nn.Embedding.from_pretrained(torch.tensor(embedding_matrix, dtype=torch.float32))\n",
    "        self.lstm = nn.LSTM(input_size=embedding_matrix.shape[1], hidden_size=hidden_dim, num_layers=2, dropout=0.6, batch_first=True, bidirectional=True)\n",
    "        self.fc = nn.Linear(hidden_dim * 2, output_dim)\n",
    "\n",
    "    def forward(self, input_ids):\n",
    "        embedded = self.embedding(input_ids)\n",
    "        _, (hidden, _) = self.lstm(embedded)\n",
    "        hidden = torch.cat((hidden[-2], hidden[-1]), dim=1)  # Combine directions\n",
    "        output = self.fc(hidden)\n",
    "        return output\n"
   ]
  },
  {
   "cell_type": "code",
   "execution_count": 13,
   "id": "b2d426a8",
   "metadata": {},
   "outputs": [],
   "source": [
    "# Initialisation\n",
    "hidden_dim = 256\n",
    "output_dim = 2\n",
    "\n",
    "model_lem = LSTMClassifier(embedding_matrix_lem, hidden_dim, output_dim).to(device)\n",
    "model_stem = LSTMClassifier(embedding_matrix_stem, hidden_dim, output_dim).to(device)\n"
   ]
  },
  {
   "cell_type": "code",
   "execution_count": 16,
   "id": "3f4a9724",
   "metadata": {},
   "outputs": [
    {
     "name": "stdout",
     "output_type": "stream",
     "text": [
      "Epoch 1, Loss: 114.1279\n",
      "Epoch 2, Loss: 112.8395\n",
      "Epoch 3, Loss: 110.5862\n",
      "Epoch 4, Loss: 106.9900\n",
      "Epoch 5, Loss: 105.9997\n",
      "Epoch 6, Loss: 104.9056\n",
      "Epoch 7, Loss: 101.5879\n",
      "Epoch 8, Loss: 101.6300\n",
      "Epoch 9, Loss: 99.6604\n",
      "Epoch 10, Loss: 97.2721\n",
      "Epoch 11, Loss: 97.0253\n",
      "Epoch 12, Loss: 94.3513\n",
      "Epoch 13, Loss: 91.2275\n",
      "Epoch 14, Loss: 87.3874\n",
      "Epoch 15, Loss: 85.5478\n",
      "Epoch 16, Loss: 85.1479\n",
      "Epoch 17, Loss: 83.8937\n",
      "Epoch 18, Loss: 78.7166\n",
      "Epoch 19, Loss: 79.6445\n",
      "Epoch 20, Loss: 76.3904\n",
      "Epoch 21, Loss: 77.6371\n",
      "Epoch 22, Loss: 90.1596\n",
      "Epoch 23, Loss: 77.3774\n",
      "Epoch 24, Loss: 71.3906\n",
      "Epoch 25, Loss: 70.3074\n",
      "Epoch 26, Loss: 66.5623\n",
      "Epoch 27, Loss: 67.8862\n",
      "Epoch 28, Loss: 61.2133\n",
      "Epoch 29, Loss: 59.8680\n",
      "Epoch 30, Loss: 59.9001\n",
      "Test Results for LSTM_Lemmatized:\n",
      "  ROC AUC: 0.6788\n",
      "  Accuracy: 0.6785\n",
      "  Precision: 0.6958\n",
      "  Recall: 0.6424\n",
      "  F1 Score: 0.6680\n"
     ]
    },
    {
     "name": "stderr",
     "output_type": "stream",
     "text": [
      "2025/01/20 19:39:31 WARNING mlflow.models.model: Model logged without a signature and input example. Please set `input_example` parameter when logging the model to auto infer the model signature.\n"
     ]
    },
    {
     "name": "stdout",
     "output_type": "stream",
     "text": [
      "Modèle sauvegardé dans : ./saved_models/LSTM_Lemmatized\n",
      "Vocabulaire sauvegardé dans : ./saved_vocab/LSTM_Lemmatized_vocab.json\n",
      "Epoch 1, Loss: 210.3853\n",
      "Epoch 2, Loss: 185.6468\n",
      "Epoch 3, Loss: 177.0503\n",
      "Epoch 4, Loss: 173.1942\n",
      "Epoch 5, Loss: 170.2331\n",
      "Epoch 6, Loss: 169.0845\n",
      "Epoch 7, Loss: 167.5159\n",
      "Epoch 8, Loss: 165.2766\n",
      "Epoch 9, Loss: 164.3336\n",
      "Epoch 10, Loss: 162.1063\n",
      "Epoch 11, Loss: 161.2087\n",
      "Epoch 12, Loss: 159.1719\n",
      "Epoch 13, Loss: 158.3649\n",
      "Epoch 14, Loss: 156.7104\n",
      "Epoch 15, Loss: 155.7366\n",
      "Epoch 16, Loss: 154.7099\n",
      "Epoch 17, Loss: 152.6222\n",
      "Epoch 18, Loss: 151.4413\n",
      "Epoch 19, Loss: 149.8956\n",
      "Epoch 20, Loss: 148.7709\n",
      "Epoch 21, Loss: 147.9149\n",
      "Epoch 22, Loss: 146.3270\n",
      "Epoch 23, Loss: 144.1597\n",
      "Epoch 24, Loss: 142.0538\n",
      "Epoch 25, Loss: 141.4107\n",
      "Epoch 26, Loss: 139.9158\n",
      "Epoch 27, Loss: 137.7246\n",
      "Epoch 28, Loss: 136.0918\n",
      "Epoch 29, Loss: 134.1527\n",
      "Epoch 30, Loss: 132.0234\n",
      "Test Results for LSTM_Stemmed:\n",
      "  ROC AUC: 0.6923\n",
      "  Accuracy: 0.6926\n",
      "  Precision: 0.6808\n",
      "  Recall: 0.7331\n",
      "  F1 Score: 0.7060\n"
     ]
    },
    {
     "name": "stderr",
     "output_type": "stream",
     "text": [
      "2025/01/20 20:17:17 WARNING mlflow.models.model: Model logged without a signature and input example. Please set `input_example` parameter when logging the model to auto infer the model signature.\n"
     ]
    },
    {
     "name": "stdout",
     "output_type": "stream",
     "text": [
      "Modèle sauvegardé dans : ./saved_models/LSTM_Stemmed\n",
      "Vocabulaire sauvegardé dans : ./saved_vocab/LSTM_Stemmed_vocab.json\n"
     ]
    }
   ],
   "source": [
    "# Entraînement avec MLflow\n",
    "mlflow.set_experiment(\"lstm_text_classification_experiment\")\n",
    "for name, model, dataset, vocab in zip(\n",
    "    [\"LSTM_Lemmatized\", \"LSTM_Stemmed\"],\n",
    "    [model_lem, model_stem],\n",
    "    [X_train_lem, X_train_stem],\n",
    "    [vocab_lem, vocab_stem]\n",
    "):\n",
    "    with mlflow.start_run(run_name=f\"{name}-Classification\"):\n",
    "        mlflow.set_tag(\"model_type\", name)\n",
    "\n",
    "        # Préparer les données\n",
    "        train_dataset = TextDataset(dataset, y_train, vocab, max_len=50)\n",
    "        train_loader = DataLoader(train_dataset, batch_size=32, shuffle=True)\n",
    "\n",
    "        test_dataset = TextDataset(X_test_lem if \"Lemmatized\" in name else X_test_stem, y_test, vocab, max_len=50)\n",
    "        test_loader = DataLoader(test_dataset, batch_size=32, shuffle=False)\n",
    "\n",
    "        # Entraînement\n",
    "        criterion = nn.CrossEntropyLoss()\n",
    "        optimizer = optim.Adam(model.parameters(), lr=0.0001)\n",
    "\n",
    "        for epoch in range(30):\n",
    "            model.train()\n",
    "            epoch_loss = 0\n",
    "\n",
    "            for batch in train_loader:\n",
    "                input_ids = batch[\"input_ids\"].to(device)\n",
    "                labels = batch[\"label\"].to(device)\n",
    "\n",
    "                optimizer.zero_grad()\n",
    "                outputs = model(input_ids)\n",
    "                loss = criterion(outputs, labels)\n",
    "                loss.backward()\n",
    "                optimizer.step()\n",
    "\n",
    "                epoch_loss += loss.item()\n",
    "\n",
    "            print(f\"Epoch {epoch + 1}, Loss: {epoch_loss:.4f}\")\n",
    "            mlflow.log_metric(f\"loss_epoch_{epoch + 1}\", epoch_loss)\n",
    "\n",
    "        # Évaluation sur les données de test\n",
    "        model.eval()\n",
    "        y_test_pred = []\n",
    "        y_test_true = []\n",
    "\n",
    "        with torch.no_grad():\n",
    "            for batch in test_loader:\n",
    "                input_ids = batch[\"input_ids\"].to(device)\n",
    "                labels = batch[\"label\"].to(device)\n",
    "\n",
    "                outputs = model(input_ids)\n",
    "                preds = torch.argmax(outputs, dim=1).cpu().numpy()\n",
    "\n",
    "                y_test_pred.extend(preds)\n",
    "                y_test_true.extend(labels.cpu().numpy())\n",
    "\n",
    "        # Calcul des métriques pour le test\n",
    "        test_roc_auc = roc_auc_score(y_test_true, y_test_pred)\n",
    "        test_accuracy = np.mean(np.array(y_test_true) == np.array(y_test_pred))\n",
    "        test_precision = np.sum(np.logical_and(np.array(y_test_pred) == 1, np.array(y_test_true) == 1)) / max(np.sum(np.array(y_test_pred) == 1), 1)\n",
    "        test_recall = np.sum(np.logical_and(np.array(y_test_pred) == 1, np.array(y_test_true) == 1)) / max(np.sum(np.array(y_test_true) == 1), 1)\n",
    "        test_f1 = 2 * (test_precision * test_recall) / max((test_precision + test_recall), 1e-6)\n",
    "\n",
    "        # Logging des métriques de test dans MLflow\n",
    "        mlflow.log_metric(\"test_roc_auc\", test_roc_auc)\n",
    "        mlflow.log_metric(\"test_accuracy\", test_accuracy)\n",
    "        mlflow.log_metric(\"test_precision\", test_precision)\n",
    "        mlflow.log_metric(\"test_recall\", test_recall)\n",
    "        mlflow.log_metric(\"test_f1_score\", test_f1)\n",
    "\n",
    "        print(f\"Test Results for {name}:\")\n",
    "        print(f\"  ROC AUC: {test_roc_auc:.4f}\")\n",
    "        print(f\"  Accuracy: {test_accuracy:.4f}\")\n",
    "        print(f\"  Precision: {test_precision:.4f}\")\n",
    "        print(f\"  Recall: {test_recall:.4f}\")\n",
    "        print(f\"  F1 Score: {test_f1:.4f}\")\n",
    "        \n",
    "        # Sauvegarder le modèle et le vocabulaire\n",
    "        model_save_path = f\"./saved_models/{name}\"\n",
    "        vocab_save_path = f\"./saved_vocab/{name}_vocab.json\"\n",
    "\n",
    "        # Créer les dossiers si nécessaire\n",
    "        os.makedirs(model_save_path, exist_ok=True)\n",
    "        os.makedirs(\"./saved_vocab\", exist_ok=True)\n",
    "\n",
    "        # Sauvegarder le modèle\n",
    "        torch.save(model.state_dict(), os.path.join(model_save_path, \"model.pth\"))\n",
    "        mlflow.pytorch.log_model(model, artifact_path=name)\n",
    "\n",
    "        # Sauvegarder le vocabulaire\n",
    "        with open(vocab_save_path, 'w') as vocab_file:\n",
    "            if \"Lemmatized\" in name:\n",
    "                json.dump(vocab_lem, vocab_file)\n",
    "            else:\n",
    "                json.dump(vocab_stem, vocab_file)\n",
    "\n",
    "        print(f\"Modèle sauvegardé dans : {model_save_path}\")\n",
    "        print(f\"Vocabulaire sauvegardé dans : {vocab_save_path}\")\n",
    "\n"
   ]
  },
  {
   "cell_type": "code",
   "execution_count": 97,
   "id": "7eacb3ff",
   "metadata": {},
   "outputs": [
    {
     "data": {
      "image/png": "[encoded data removed]",
      "text/plain": [
       "<Figure size 800x600 with 1 Axes>"
      ]
     },
     "metadata": {},
     "output_type": "display_data"
    }
   ],
   "source": [
    "from sklearn.metrics import roc_curve\n",
    "\n",
    "def plot_roc_curve(y_true, y_pred, title=\"ROC Curve\"):\n",
    "    fpr, tpr, _ = roc_curve(y_true, y_pred)\n",
    "    plt.figure(figsize=(8, 6))\n",
    "    plt.plot(fpr, tpr, color='blue', label=f\"ROC curve (area = {roc_auc_score(y_true, y_pred):.2f})\")\n",
    "    plt.plot([0, 1], [0, 1], color='gray', linestyle='--')\n",
    "    plt.xlabel(\"False Positive Rate\")\n",
    "    plt.ylabel(\"True Positive Rate\")\n",
    "    plt.title(title)\n",
    "    plt.legend(loc=\"lower right\")\n",
    "    plt.grid()\n",
    "    plt.show()\n",
    "\n",
    "plot_roc_curve(y_test_true, y_test_pred, title=f\"ROC Curve for {name}\")\n"
   ]
  }
 ],
 "metadata": {
  "kernelspec": {
   "display_name": "airParadis",
   "language": "python",
   "name": "python3"
  },
  "language_info": {
   "codemirror_mode": {
    "name": "ipython",
    "version": 3
   },
   "file_extension": ".py",
   "mimetype": "text/x-python",
   "name": "python",
   "nbconvert_exporter": "python",
   "pygments_lexer": "ipython3",
   "version": "3.12.8"
  }
 },
 "nbformat": 4,
 "nbformat_minor": 5
}
